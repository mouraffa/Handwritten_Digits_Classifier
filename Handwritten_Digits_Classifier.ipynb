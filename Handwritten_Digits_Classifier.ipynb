{
  "cells": [
    {
      "cell_type": "markdown",
      "metadata": {
        "id": "view-in-github",
        "colab_type": "text"
      },
      "source": [
        "<a href=\"https://colab.research.google.com/github/mouraffa/Handwritten_Digits_Classifier/blob/main/Handwritten_Digits_Classifier.ipynb\" target=\"_parent\"><img src=\"https://colab.research.google.com/assets/colab-badge.svg\" alt=\"Open In Colab\"/></a>"
      ]
    },
    {
      "cell_type": "markdown",
      "source": [
        "## Project Purpose\n",
        "\n",
        "The purpose of this project is to classify handwritten digits using a neural network approach. We will explore different models and techniques to improve the accuracy of the classification task. The project will involve building neural network models with different architectures, evaluating their performance, and comparing the results. By the end of the project, we aim to identify the most effective model for handwritten digit classification.\n"
      ],
      "metadata": {
        "id": "u8poO5vpkSQE"
      },
      "id": "u8poO5vpkSQE"
    },
    {
      "cell_type": "code",
      "metadata": {
        "id": "fmpRoABUfn9x"
      },
      "source": [
        "# Importing the necessary libraries\n",
        "import tensorflow as tf\n",
        "from tensorflow import keras\n",
        "import matplotlib.pyplot as plt\n",
        "# %matplotlib inline\n",
        "import numpy as np"
      ],
      "id": "fmpRoABUfn9x",
      "execution_count": 1,
      "outputs": []
    },
    {
      "cell_type": "markdown",
      "source": [
        "##the MNIST dataset"
      ],
      "metadata": {
        "id": "-FFSC3J1kr1Z"
      },
      "id": "-FFSC3J1kr1Z"
    },
    {
      "cell_type": "markdown",
      "source": [
        "* The dataset used in this project is the MNIST dataset, which is a widely used benchmark dataset for handwritten digit recognition. It consists of 60,000 training images and 10,000 testing images, each representing a grayscale image of size 28x28 pixels. The images in the dataset are labeled with the corresponding digit ranging from 0 to 9.\n",
        "\n",
        "* The dataset is already divided into training and testing sets, with the training set used to train the models and the testing set used to evaluate their performance. Before feeding the data into the models, we normalize the pixel values by dividing them by 255 to scale them between 0 and 1.\n",
        "\n",
        "* The MNIST dataset serves as a standard benchmark for evaluating the performance of various machine learning algorithms and is a popular choice for tasks related to image classification and digit recognition.\n"
      ],
      "metadata": {
        "id": "98sEr4y7kuim"
      },
      "id": "98sEr4y7kuim"
    },
    {
      "cell_type": "markdown",
      "source": [
        "![0_Yf6jSy8y3QHHhAws.png](data:image/png;base64,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)"
      ],
      "metadata": {
        "id": "SzlqVpwdlhEs"
      },
      "id": "SzlqVpwdlhEs"
    },
    {
      "cell_type": "code",
      "metadata": {
        "colab": {
          "base_uri": "https://localhost:8080/"
        },
        "id": "OA8LHLmzfn97",
        "outputId": "9475b59c-38f2-4d82-cb42-1591155b1809"
      },
      "source": [
        "# Loading the MNIST dataset\n",
        "(X_train, Y_train), (X_test, Y_test) = keras.datasets.mnist.load_data()\n",
        "\n",
        "# Checking the length of the training and test datasets\n",
        "len(X_train), len(X_test)"
      ],
      "id": "OA8LHLmzfn97",
      "execution_count": 2,
      "outputs": [
        {
          "output_type": "execute_result",
          "data": {
            "text/plain": [
              "(60000, 10000)"
            ]
          },
          "metadata": {},
          "execution_count": 2
        }
      ]
    },
    {
      "cell_type": "code",
      "metadata": {
        "colab": {
          "base_uri": "https://localhost:8080/"
        },
        "id": "nUH8VGrdfn99",
        "outputId": "4985d0ff-d0d9-41b5-819a-8c8ad064816f"
      },
      "source": [
        "# Displaying the shape of the first training sample\n",
        "X_train[0].shape"
      ],
      "id": "nUH8VGrdfn99",
      "execution_count": 3,
      "outputs": [
        {
          "output_type": "execute_result",
          "data": {
            "text/plain": [
              "(28, 28)"
            ]
          },
          "metadata": {},
          "execution_count": 3
        }
      ]
    },
    {
      "cell_type": "code",
      "metadata": {
        "colab": {
          "base_uri": "https://localhost:8080/"
        },
        "id": "rdKae7eXfn9-",
        "outputId": "65f0ec1d-4c3c-43df-e9f5-255448fb1354"
      },
      "source": [
        "# Displaying the pixel values of the first training sample\n",
        "X_train[0]"
      ],
      "id": "rdKae7eXfn9-",
      "execution_count": 4,
      "outputs": [
        {
          "output_type": "execute_result",
          "data": {
            "text/plain": [
              "array([[  0,   0,   0,   0,   0,   0,   0,   0,   0,   0,   0,   0,   0,\n",
              "          0,   0,   0,   0,   0,   0,   0,   0,   0,   0,   0,   0,   0,\n",
              "          0,   0],\n",
              "       [  0,   0,   0,   0,   0,   0,   0,   0,   0,   0,   0,   0,   0,\n",
              "          0,   0,   0,   0,   0,   0,   0,   0,   0,   0,   0,   0,   0,\n",
              "          0,   0],\n",
              "       [  0,   0,   0,   0,   0,   0,   0,   0,   0,   0,   0,   0,   0,\n",
              "          0,   0,   0,   0,   0,   0,   0,   0,   0,   0,   0,   0,   0,\n",
              "          0,   0],\n",
              "       [  0,   0,   0,   0,   0,   0,   0,   0,   0,   0,   0,   0,   0,\n",
              "          0,   0,   0,   0,   0,   0,   0,   0,   0,   0,   0,   0,   0,\n",
              "          0,   0],\n",
              "       [  0,   0,   0,   0,   0,   0,   0,   0,   0,   0,   0,   0,   0,\n",
              "          0,   0,   0,   0,   0,   0,   0,   0,   0,   0,   0,   0,   0,\n",
              "          0,   0],\n",
              "       [  0,   0,   0,   0,   0,   0,   0,   0,   0,   0,   0,   0,   3,\n",
              "         18,  18,  18, 126, 136, 175,  26, 166, 255, 247, 127,   0,   0,\n",
              "          0,   0],\n",
              "       [  0,   0,   0,   0,   0,   0,   0,   0,  30,  36,  94, 154, 170,\n",
              "        253, 253, 253, 253, 253, 225, 172, 253, 242, 195,  64,   0,   0,\n",
              "          0,   0],\n",
              "       [  0,   0,   0,   0,   0,   0,   0,  49, 238, 253, 253, 253, 253,\n",
              "        253, 253, 253, 253, 251,  93,  82,  82,  56,  39,   0,   0,   0,\n",
              "          0,   0],\n",
              "       [  0,   0,   0,   0,   0,   0,   0,  18, 219, 253, 253, 253, 253,\n",
              "        253, 198, 182, 247, 241,   0,   0,   0,   0,   0,   0,   0,   0,\n",
              "          0,   0],\n",
              "       [  0,   0,   0,   0,   0,   0,   0,   0,  80, 156, 107, 253, 253,\n",
              "        205,  11,   0,  43, 154,   0,   0,   0,   0,   0,   0,   0,   0,\n",
              "          0,   0],\n",
              "       [  0,   0,   0,   0,   0,   0,   0,   0,   0,  14,   1, 154, 253,\n",
              "         90,   0,   0,   0,   0,   0,   0,   0,   0,   0,   0,   0,   0,\n",
              "          0,   0],\n",
              "       [  0,   0,   0,   0,   0,   0,   0,   0,   0,   0,   0, 139, 253,\n",
              "        190,   2,   0,   0,   0,   0,   0,   0,   0,   0,   0,   0,   0,\n",
              "          0,   0],\n",
              "       [  0,   0,   0,   0,   0,   0,   0,   0,   0,   0,   0,  11, 190,\n",
              "        253,  70,   0,   0,   0,   0,   0,   0,   0,   0,   0,   0,   0,\n",
              "          0,   0],\n",
              "       [  0,   0,   0,   0,   0,   0,   0,   0,   0,   0,   0,   0,  35,\n",
              "        241, 225, 160, 108,   1,   0,   0,   0,   0,   0,   0,   0,   0,\n",
              "          0,   0],\n",
              "       [  0,   0,   0,   0,   0,   0,   0,   0,   0,   0,   0,   0,   0,\n",
              "         81, 240, 253, 253, 119,  25,   0,   0,   0,   0,   0,   0,   0,\n",
              "          0,   0],\n",
              "       [  0,   0,   0,   0,   0,   0,   0,   0,   0,   0,   0,   0,   0,\n",
              "          0,  45, 186, 253, 253, 150,  27,   0,   0,   0,   0,   0,   0,\n",
              "          0,   0],\n",
              "       [  0,   0,   0,   0,   0,   0,   0,   0,   0,   0,   0,   0,   0,\n",
              "          0,   0,  16,  93, 252, 253, 187,   0,   0,   0,   0,   0,   0,\n",
              "          0,   0],\n",
              "       [  0,   0,   0,   0,   0,   0,   0,   0,   0,   0,   0,   0,   0,\n",
              "          0,   0,   0,   0, 249, 253, 249,  64,   0,   0,   0,   0,   0,\n",
              "          0,   0],\n",
              "       [  0,   0,   0,   0,   0,   0,   0,   0,   0,   0,   0,   0,   0,\n",
              "          0,  46, 130, 183, 253, 253, 207,   2,   0,   0,   0,   0,   0,\n",
              "          0,   0],\n",
              "       [  0,   0,   0,   0,   0,   0,   0,   0,   0,   0,   0,   0,  39,\n",
              "        148, 229, 253, 253, 253, 250, 182,   0,   0,   0,   0,   0,   0,\n",
              "          0,   0],\n",
              "       [  0,   0,   0,   0,   0,   0,   0,   0,   0,   0,  24, 114, 221,\n",
              "        253, 253, 253, 253, 201,  78,   0,   0,   0,   0,   0,   0,   0,\n",
              "          0,   0],\n",
              "       [  0,   0,   0,   0,   0,   0,   0,   0,  23,  66, 213, 253, 253,\n",
              "        253, 253, 198,  81,   2,   0,   0,   0,   0,   0,   0,   0,   0,\n",
              "          0,   0],\n",
              "       [  0,   0,   0,   0,   0,   0,  18, 171, 219, 253, 253, 253, 253,\n",
              "        195,  80,   9,   0,   0,   0,   0,   0,   0,   0,   0,   0,   0,\n",
              "          0,   0],\n",
              "       [  0,   0,   0,   0,  55, 172, 226, 253, 253, 253, 253, 244, 133,\n",
              "         11,   0,   0,   0,   0,   0,   0,   0,   0,   0,   0,   0,   0,\n",
              "          0,   0],\n",
              "       [  0,   0,   0,   0, 136, 253, 253, 253, 212, 135, 132,  16,   0,\n",
              "          0,   0,   0,   0,   0,   0,   0,   0,   0,   0,   0,   0,   0,\n",
              "          0,   0],\n",
              "       [  0,   0,   0,   0,   0,   0,   0,   0,   0,   0,   0,   0,   0,\n",
              "          0,   0,   0,   0,   0,   0,   0,   0,   0,   0,   0,   0,   0,\n",
              "          0,   0],\n",
              "       [  0,   0,   0,   0,   0,   0,   0,   0,   0,   0,   0,   0,   0,\n",
              "          0,   0,   0,   0,   0,   0,   0,   0,   0,   0,   0,   0,   0,\n",
              "          0,   0],\n",
              "       [  0,   0,   0,   0,   0,   0,   0,   0,   0,   0,   0,   0,   0,\n",
              "          0,   0,   0,   0,   0,   0,   0,   0,   0,   0,   0,   0,   0,\n",
              "          0,   0]], dtype=uint8)"
            ]
          },
          "metadata": {},
          "execution_count": 4
        }
      ]
    },
    {
      "cell_type": "code",
      "metadata": {
        "colab": {
          "base_uri": "https://localhost:8080/",
          "height": 466
        },
        "id": "jYW9N2opfn9_",
        "outputId": "8242a0f6-bbdb-4312-dbbf-7b59f1afdecf"
      },
      "source": [
        "# Randomly selecting an image from the training set\n",
        "import random\n",
        "\n",
        "index = random.randint(0, np.max(Y_train))\n",
        "plt.imshow(X_train[index])\n",
        "plt.xlabel(Y_train[index])"
      ],
      "id": "jYW9N2opfn9_",
      "execution_count": 5,
      "outputs": [
        {
          "output_type": "execute_result",
          "data": {
            "text/plain": [
              "Text(0.5, 0, '9')"
            ]
          },
          "metadata": {},
          "execution_count": 5
        },
        {
          "output_type": "display_data",
          "data": {
            "text/plain": [
              "<Figure size 640x480 with 1 Axes>"
            ],
            "image/png": "[encoded data removed]"
          },
          "metadata": {}
        }
      ]
    },
    {
      "cell_type": "code",
      "metadata": {
        "id": "D2S13V9ofn-B"
      },
      "source": [
        "# Normalizing the pixel values\n",
        "X_train = X_train / 255\n",
        "X_test = X_test / 255"
      ],
      "id": "D2S13V9ofn-B",
      "execution_count": 6,
      "outputs": []
    },
    {
      "cell_type": "code",
      "metadata": {
        "colab": {
          "base_uri": "https://localhost:8080/"
        },
        "id": "eZLTCGmpfn-C",
        "outputId": "f2bb45b8-e95e-4e54-ce89-5f6f7428014e"
      },
      "source": [
        "# Displaying the normalized pixel values of the first training sample\n",
        "X_train[index]"
      ],
      "id": "eZLTCGmpfn-C",
      "execution_count": 7,
      "outputs": [
        {
          "output_type": "execute_result",
          "data": {
            "text/plain": [
              "array([[0.        , 0.        , 0.        , 0.        , 0.        ,\n",
              "        0.        , 0.        , 0.        , 0.        , 0.        ,\n",
              "        0.        , 0.        , 0.        , 0.        , 0.        ,\n",
              "        0.        , 0.        , 0.        , 0.        , 0.        ,\n",
              "        0.        , 0.        , 0.        , 0.        , 0.        ,\n",
              "        0.        , 0.        , 0.        ],\n",
              "       [0.        , 0.        , 0.        , 0.        , 0.        ,\n",
              "        0.        , 0.        , 0.        , 0.        , 0.        ,\n",
              "        0.        , 0.        , 0.        , 0.        , 0.        ,\n",
              "        0.        , 0.        , 0.        , 0.        , 0.        ,\n",
              "        0.        , 0.        , 0.        , 0.        , 0.        ,\n",
              "        0.        , 0.        , 0.        ],\n",
              "       [0.        , 0.        , 0.        , 0.        , 0.        ,\n",
              "        0.        , 0.        , 0.        , 0.        , 0.        ,\n",
              "        0.        , 0.        , 0.        , 0.        , 0.        ,\n",
              "        0.        , 0.        , 0.        , 0.        , 0.        ,\n",
              "        0.        , 0.        , 0.        , 0.        , 0.        ,\n",
              "        0.        , 0.        , 0.        ],\n",
              "       [0.        , 0.        , 0.        , 0.        , 0.        ,\n",
              "        0.        , 0.        , 0.        , 0.        , 0.        ,\n",
              "        0.        , 0.        , 0.        , 0.        , 0.        ,\n",
              "        0.        , 0.        , 0.        , 0.        , 0.        ,\n",
              "        0.        , 0.        , 0.        , 0.        , 0.        ,\n",
              "        0.        , 0.        , 0.        ],\n",
              "       [0.        , 0.        , 0.        , 0.        , 0.        ,\n",
              "        0.        , 0.        , 0.        , 0.        , 0.        ,\n",
              "        0.        , 0.        , 0.        , 0.        , 0.        ,\n",
              "        0.        , 0.        , 0.        , 0.        , 0.        ,\n",
              "        0.        , 0.        , 0.        , 0.        , 0.        ,\n",
              "        0.        , 0.        , 0.        ],\n",
              "       [0.        , 0.        , 0.        , 0.        , 0.        ,\n",
              "        0.        , 0.        , 0.        , 0.        , 0.        ,\n",
              "        0.        , 0.        , 0.        , 0.        , 0.        ,\n",
              "        0.        , 0.        , 0.        , 0.        , 0.        ,\n",
              "        0.        , 0.        , 0.        , 0.        , 0.        ,\n",
              "        0.        , 0.        , 0.        ],\n",
              "       [0.        , 0.        , 0.        , 0.        , 0.        ,\n",
              "        0.        , 0.        , 0.        , 0.        , 0.        ,\n",
              "        0.        , 0.        , 0.        , 0.        , 0.        ,\n",
              "        0.        , 0.        , 0.        , 0.        , 0.        ,\n",
              "        0.        , 0.        , 0.        , 0.        , 0.        ,\n",
              "        0.        , 0.        , 0.        ],\n",
              "       [0.        , 0.        , 0.        , 0.        , 0.        ,\n",
              "        0.        , 0.        , 0.        , 0.        , 0.        ,\n",
              "        0.        , 0.        , 0.21568627, 0.58039216, 0.82352941,\n",
              "        0.99215686, 0.99215686, 0.44313725, 0.34117647, 0.58039216,\n",
              "        0.21568627, 0.        , 0.        , 0.        , 0.        ,\n",
              "        0.        , 0.        , 0.        ],\n",
              "       [0.        , 0.        , 0.        , 0.        , 0.        ,\n",
              "        0.        , 0.        , 0.        , 0.        , 0.        ,\n",
              "        0.        , 0.34117647, 0.90980392, 0.98823529, 0.99215686,\n",
              "        0.74117647, 0.82352941, 0.98823529, 0.98823529, 0.99215686,\n",
              "        0.65882353, 0.        , 0.        , 0.        , 0.        ,\n",
              "        0.        , 0.        , 0.        ],\n",
              "       [0.        , 0.        , 0.        , 0.        , 0.        ,\n",
              "        0.        , 0.        , 0.        , 0.        , 0.01568627,\n",
              "        0.22352941, 0.94901961, 0.98823529, 0.74509804, 0.25490196,\n",
              "        0.01960784, 0.04705882, 0.71372549, 0.98823529, 0.99215686,\n",
              "        0.45490196, 0.        , 0.        , 0.        , 0.        ,\n",
              "        0.        , 0.        , 0.        ],\n",
              "       [0.        , 0.        , 0.        , 0.        , 0.        ,\n",
              "        0.        , 0.        , 0.        , 0.        , 0.37647059,\n",
              "        0.98823529, 0.98823529, 0.71764706, 0.05490196, 0.        ,\n",
              "        0.        , 0.36078431, 0.98823529, 0.98823529, 0.88235294,\n",
              "        0.08235294, 0.        , 0.        , 0.        , 0.        ,\n",
              "        0.        , 0.        , 0.        ],\n",
              "       [0.        , 0.        , 0.        , 0.        , 0.        ,\n",
              "        0.        , 0.        , 0.        , 0.51764706, 0.99215686,\n",
              "        0.98823529, 0.57254902, 0.05490196, 0.        , 0.        ,\n",
              "        0.        , 0.84313725, 0.98823529, 0.98823529, 0.30980392,\n",
              "        0.        , 0.        , 0.        , 0.        , 0.        ,\n",
              "        0.        , 0.        , 0.        ],\n",
              "       [0.        , 0.        , 0.        , 0.        , 0.        ,\n",
              "        0.        , 0.        , 0.49411765, 0.99215686, 0.96862745,\n",
              "        0.69019608, 0.03529412, 0.        , 0.        , 0.03137255,\n",
              "        0.30588235, 0.96078431, 0.99215686, 0.50588235, 0.        ,\n",
              "        0.        , 0.        , 0.        , 0.        , 0.        ,\n",
              "        0.        , 0.        , 0.        ],\n",
              "       [0.        , 0.        , 0.        , 0.        , 0.        ,\n",
              "        0.        , 0.0627451 , 0.90980392, 0.98823529, 0.69019608,\n",
              "        0.        , 0.        , 0.        , 0.14117647, 0.78823529,\n",
              "        0.98823529, 0.98823529, 0.6627451 , 0.04313725, 0.        ,\n",
              "        0.        , 0.        , 0.        , 0.        , 0.        ,\n",
              "        0.        , 0.        , 0.        ],\n",
              "       [0.        , 0.        , 0.        , 0.        , 0.        ,\n",
              "        0.        , 0.08627451, 0.98823529, 0.98823529, 0.11764706,\n",
              "        0.08627451, 0.46666667, 0.77254902, 0.94509804, 0.99215686,\n",
              "        0.98823529, 0.98431373, 0.30196078, 0.        , 0.        ,\n",
              "        0.        , 0.        , 0.        , 0.        , 0.        ,\n",
              "        0.        , 0.        , 0.        ],\n",
              "       [0.        , 0.        , 0.        , 0.        , 0.        ,\n",
              "        0.        , 0.0627451 , 0.90588235, 0.98823529, 0.99215686,\n",
              "        0.98823529, 0.98823529, 0.98823529, 0.88627451, 0.89019608,\n",
              "        0.98823529, 0.90588235, 0.        , 0.        , 0.        ,\n",
              "        0.        , 0.        , 0.        , 0.        , 0.        ,\n",
              "        0.        , 0.        , 0.        ],\n",
              "       [0.        , 0.        , 0.        , 0.        , 0.        ,\n",
              "        0.        , 0.        , 0.21568627, 0.92156863, 0.99215686,\n",
              "        0.85098039, 0.54117647, 0.16470588, 0.09411765, 0.75294118,\n",
              "        0.98823529, 0.56078431, 0.        , 0.        , 0.        ,\n",
              "        0.        , 0.        , 0.        , 0.        , 0.        ,\n",
              "        0.        , 0.        , 0.        ],\n",
              "       [0.        , 0.        , 0.        , 0.        , 0.        ,\n",
              "        0.        , 0.        , 0.        , 0.        , 0.        ,\n",
              "        0.        , 0.        , 0.        , 0.24313725, 1.        ,\n",
              "        0.99215686, 0.42745098, 0.        , 0.        , 0.        ,\n",
              "        0.        , 0.        , 0.        , 0.        , 0.        ,\n",
              "        0.        , 0.        , 0.        ],\n",
              "       [0.        , 0.        , 0.        , 0.        , 0.        ,\n",
              "        0.        , 0.        , 0.        , 0.        , 0.        ,\n",
              "        0.        , 0.        , 0.        , 0.27843137, 0.99215686,\n",
              "        0.98823529, 0.08235294, 0.        , 0.        , 0.        ,\n",
              "        0.        , 0.        , 0.        , 0.        , 0.        ,\n",
              "        0.        , 0.        , 0.        ],\n",
              "       [0.        , 0.        , 0.        , 0.        , 0.        ,\n",
              "        0.        , 0.        , 0.        , 0.        , 0.        ,\n",
              "        0.        , 0.        , 0.        , 0.        , 0.99215686,\n",
              "        0.98823529, 0.08235294, 0.        , 0.        , 0.        ,\n",
              "        0.        , 0.        , 0.        , 0.        , 0.        ,\n",
              "        0.        , 0.        , 0.        ],\n",
              "       [0.        , 0.        , 0.        , 0.        , 0.        ,\n",
              "        0.        , 0.        , 0.        , 0.        , 0.        ,\n",
              "        0.        , 0.        , 0.        , 0.27843137, 0.99215686,\n",
              "        0.98823529, 0.08235294, 0.        , 0.        , 0.        ,\n",
              "        0.        , 0.        , 0.        , 0.        , 0.        ,\n",
              "        0.        , 0.        , 0.        ],\n",
              "       [0.        , 0.        , 0.        , 0.        , 0.        ,\n",
              "        0.        , 0.        , 0.        , 0.        , 0.        ,\n",
              "        0.        , 0.        , 0.        , 0.41568627, 0.99215686,\n",
              "        0.98823529, 0.08235294, 0.        , 0.        , 0.        ,\n",
              "        0.        , 0.        , 0.        , 0.        , 0.        ,\n",
              "        0.        , 0.        , 0.        ],\n",
              "       [0.        , 0.        , 0.        , 0.        , 0.        ,\n",
              "        0.        , 0.        , 0.        , 0.        , 0.        ,\n",
              "        0.        , 0.        , 0.        , 0.17647059, 1.        ,\n",
              "        0.99215686, 0.08235294, 0.        , 0.        , 0.        ,\n",
              "        0.        , 0.        , 0.        , 0.        , 0.        ,\n",
              "        0.        , 0.        , 0.        ],\n",
              "       [0.        , 0.        , 0.        , 0.        , 0.        ,\n",
              "        0.        , 0.        , 0.        , 0.        , 0.        ,\n",
              "        0.        , 0.        , 0.        , 0.        , 0.85490196,\n",
              "        0.98823529, 0.21960784, 0.        , 0.        , 0.        ,\n",
              "        0.        , 0.        , 0.        , 0.        , 0.        ,\n",
              "        0.        , 0.        , 0.        ],\n",
              "       [0.        , 0.        , 0.        , 0.        , 0.        ,\n",
              "        0.        , 0.        , 0.        , 0.        , 0.        ,\n",
              "        0.        , 0.        , 0.        , 0.        , 0.37647059,\n",
              "        0.98823529, 0.74117647, 0.16470588, 0.        , 0.        ,\n",
              "        0.        , 0.        , 0.        , 0.        , 0.        ,\n",
              "        0.        , 0.        , 0.        ],\n",
              "       [0.        , 0.        , 0.        , 0.        , 0.        ,\n",
              "        0.        , 0.        , 0.        , 0.        , 0.        ,\n",
              "        0.        , 0.        , 0.        , 0.        , 0.05490196,\n",
              "        0.72156863, 0.98823529, 0.66666667, 0.04313725, 0.        ,\n",
              "        0.        , 0.        , 0.        , 0.        , 0.        ,\n",
              "        0.        , 0.        , 0.        ],\n",
              "       [0.        , 0.        , 0.        , 0.        , 0.        ,\n",
              "        0.        , 0.        , 0.        , 0.        , 0.        ,\n",
              "        0.        , 0.        , 0.        , 0.        , 0.        ,\n",
              "        0.05490196, 0.57647059, 0.98823529, 0.16470588, 0.        ,\n",
              "        0.        , 0.        , 0.        , 0.        , 0.        ,\n",
              "        0.        , 0.        , 0.        ],\n",
              "       [0.        , 0.        , 0.        , 0.        , 0.        ,\n",
              "        0.        , 0.        , 0.        , 0.        , 0.        ,\n",
              "        0.        , 0.        , 0.        , 0.        , 0.        ,\n",
              "        0.        , 0.        , 0.        , 0.        , 0.        ,\n",
              "        0.        , 0.        , 0.        , 0.        , 0.        ,\n",
              "        0.        , 0.        , 0.        ]])"
            ]
          },
          "metadata": {},
          "execution_count": 7
        }
      ]
    },
    {
      "cell_type": "code",
      "metadata": {
        "colab": {
          "base_uri": "https://localhost:8080/",
          "height": 447
        },
        "id": "VtlvDdW0fn-D",
        "outputId": "06cac061-c6af-47d3-ed77-43e31b6e907b"
      },
      "source": [
        "# Displaying the normalized image\n",
        "plt.imshow(X_train[index])"
      ],
      "id": "VtlvDdW0fn-D",
      "execution_count": 8,
      "outputs": [
        {
          "output_type": "execute_result",
          "data": {
            "text/plain": [
              "<matplotlib.image.AxesImage at 0x7ff9b27ec730>"
            ]
          },
          "metadata": {},
          "execution_count": 8
        },
        {
          "output_type": "display_data",
          "data": {
            "text/plain": [
              "<Figure size 640x480 with 1 Axes>"
            ],
            "image/png": "[encoded data removed]"
          },
          "metadata": {}
        }
      ]
    },
    {
      "cell_type": "code",
      "metadata": {
        "colab": {
          "base_uri": "https://localhost:8080/"
        },
        "id": "OekDqhJwfn-E",
        "outputId": "6b0e09f6-4c87-4a6a-80a1-e359744b6e6e"
      },
      "source": [
        "# Reshaping the flattened data\n",
        "X_train_flattened = X_train.reshape(len(X_train), 28*28)\n",
        "X_test_flattened = X_test.reshape(len(X_test), 28*28)\n",
        "\n",
        "# Displaying the shape of the flattened data\n",
        "X_train_flattened.shape"
      ],
      "id": "OekDqhJwfn-E",
      "execution_count": 9,
      "outputs": [
        {
          "output_type": "execute_result",
          "data": {
            "text/plain": [
              "(60000, 784)"
            ]
          },
          "metadata": {},
          "execution_count": 9
        }
      ]
    },
    {
      "cell_type": "code",
      "metadata": {
        "colab": {
          "base_uri": "https://localhost:8080/"
        },
        "id": "-YLqH_CPfn-F",
        "outputId": "11ba1e5d-c44b-48df-ba9a-b716d53d9918"
      },
      "source": [
        "# Displaying the flattened data for the first sample\n",
        "X_train_flattened[0]"
      ],
      "id": "-YLqH_CPfn-F",
      "execution_count": 10,
      "outputs": [
        {
          "output_type": "execute_result",
          "data": {
            "text/plain": [
              "array([0.        , 0.        , 0.        , 0.        , 0.        ,\n",
              "       0.        , 0.        , 0.        , 0.        , 0.        ,\n",
              "       0.        , 0.        , 0.        , 0.        , 0.        ,\n",
              "       0.        , 0.        , 0.        , 0.        , 0.        ,\n",
              "       0.        , 0.        , 0.        , 0.        , 0.        ,\n",
              "       0.        , 0.        , 0.        , 0.        , 0.        ,\n",
              "       0.        , 0.        , 0.        , 0.        , 0.        ,\n",
              "       0.        , 0.        , 0.        , 0.        , 0.        ,\n",
              "       0.        , 0.        , 0.        , 0.        , 0.        ,\n",
              "       0.        , 0.        , 0.        , 0.        , 0.        ,\n",
              "       0.        , 0.        , 0.        , 0.        , 0.        ,\n",
              "       0.        , 0.        , 0.        , 0.        , 0.        ,\n",
              "       0.        , 0.        , 0.        , 0.        , 0.        ,\n",
              "       0.        , 0.        , 0.        , 0.        , 0.        ,\n",
              "       0.        , 0.        , 0.        , 0.        , 0.        ,\n",
              "       0.        , 0.        , 0.        , 0.        , 0.        ,\n",
              "       0.        , 0.        , 0.        , 0.        , 0.        ,\n",
              "       0.        , 0.        , 0.        , 0.        , 0.        ,\n",
              "       0.        , 0.        , 0.        , 0.        , 0.        ,\n",
              "       0.        , 0.        , 0.        , 0.        , 0.        ,\n",
              "       0.        , 0.        , 0.        , 0.        , 0.        ,\n",
              "       0.        , 0.        , 0.        , 0.        , 0.        ,\n",
              "       0.        , 0.        , 0.        , 0.        , 0.        ,\n",
              "       0.        , 0.        , 0.        , 0.        , 0.        ,\n",
              "       0.        , 0.        , 0.        , 0.        , 0.        ,\n",
              "       0.        , 0.        , 0.        , 0.        , 0.        ,\n",
              "       0.        , 0.        , 0.        , 0.        , 0.        ,\n",
              "       0.        , 0.        , 0.        , 0.        , 0.        ,\n",
              "       0.        , 0.        , 0.        , 0.        , 0.        ,\n",
              "       0.        , 0.        , 0.        , 0.        , 0.        ,\n",
              "       0.        , 0.        , 0.01176471, 0.07058824, 0.07058824,\n",
              "       0.07058824, 0.49411765, 0.53333333, 0.68627451, 0.10196078,\n",
              "       0.65098039, 1.        , 0.96862745, 0.49803922, 0.        ,\n",
              "       0.        , 0.        , 0.        , 0.        , 0.        ,\n",
              "       0.        , 0.        , 0.        , 0.        , 0.        ,\n",
              "       0.        , 0.11764706, 0.14117647, 0.36862745, 0.60392157,\n",
              "       0.66666667, 0.99215686, 0.99215686, 0.99215686, 0.99215686,\n",
              "       0.99215686, 0.88235294, 0.6745098 , 0.99215686, 0.94901961,\n",
              "       0.76470588, 0.25098039, 0.        , 0.        , 0.        ,\n",
              "       0.        , 0.        , 0.        , 0.        , 0.        ,\n",
              "       0.        , 0.        , 0.        , 0.19215686, 0.93333333,\n",
              "       0.99215686, 0.99215686, 0.99215686, 0.99215686, 0.99215686,\n",
              "       0.99215686, 0.99215686, 0.99215686, 0.98431373, 0.36470588,\n",
              "       0.32156863, 0.32156863, 0.21960784, 0.15294118, 0.        ,\n",
              "       0.        , 0.        , 0.        , 0.        , 0.        ,\n",
              "       0.        , 0.        , 0.        , 0.        , 0.        ,\n",
              "       0.        , 0.07058824, 0.85882353, 0.99215686, 0.99215686,\n",
              "       0.99215686, 0.99215686, 0.99215686, 0.77647059, 0.71372549,\n",
              "       0.96862745, 0.94509804, 0.        , 0.        , 0.        ,\n",
              "       0.        , 0.        , 0.        , 0.        , 0.        ,\n",
              "       0.        , 0.        , 0.        , 0.        , 0.        ,\n",
              "       0.        , 0.        , 0.        , 0.        , 0.        ,\n",
              "       0.31372549, 0.61176471, 0.41960784, 0.99215686, 0.99215686,\n",
              "       0.80392157, 0.04313725, 0.        , 0.16862745, 0.60392157,\n",
              "       0.        , 0.        , 0.        , 0.        , 0.        ,\n",
              "       0.        , 0.        , 0.        , 0.        , 0.        ,\n",
              "       0.        , 0.        , 0.        , 0.        , 0.        ,\n",
              "       0.        , 0.        , 0.        , 0.        , 0.05490196,\n",
              "       0.00392157, 0.60392157, 0.99215686, 0.35294118, 0.        ,\n",
              "       0.        , 0.        , 0.        , 0.        , 0.        ,\n",
              "       0.        , 0.        , 0.        , 0.        , 0.        ,\n",
              "       0.        , 0.        , 0.        , 0.        , 0.        ,\n",
              "       0.        , 0.        , 0.        , 0.        , 0.        ,\n",
              "       0.        , 0.        , 0.        , 0.        , 0.54509804,\n",
              "       0.99215686, 0.74509804, 0.00784314, 0.        , 0.        ,\n",
              "       0.        , 0.        , 0.        , 0.        , 0.        ,\n",
              "       0.        , 0.        , 0.        , 0.        , 0.        ,\n",
              "       0.        , 0.        , 0.        , 0.        , 0.        ,\n",
              "       0.        , 0.        , 0.        , 0.        , 0.        ,\n",
              "       0.        , 0.        , 0.04313725, 0.74509804, 0.99215686,\n",
              "       0.2745098 , 0.        , 0.        , 0.        , 0.        ,\n",
              "       0.        , 0.        , 0.        , 0.        , 0.        ,\n",
              "       0.        , 0.        , 0.        , 0.        , 0.        ,\n",
              "       0.        , 0.        , 0.        , 0.        , 0.        ,\n",
              "       0.        , 0.        , 0.        , 0.        , 0.        ,\n",
              "       0.        , 0.1372549 , 0.94509804, 0.88235294, 0.62745098,\n",
              "       0.42352941, 0.00392157, 0.        , 0.        , 0.        ,\n",
              "       0.        , 0.        , 0.        , 0.        , 0.        ,\n",
              "       0.        , 0.        , 0.        , 0.        , 0.        ,\n",
              "       0.        , 0.        , 0.        , 0.        , 0.        ,\n",
              "       0.        , 0.        , 0.        , 0.        , 0.        ,\n",
              "       0.31764706, 0.94117647, 0.99215686, 0.99215686, 0.46666667,\n",
              "       0.09803922, 0.        , 0.        , 0.        , 0.        ,\n",
              "       0.        , 0.        , 0.        , 0.        , 0.        ,\n",
              "       0.        , 0.        , 0.        , 0.        , 0.        ,\n",
              "       0.        , 0.        , 0.        , 0.        , 0.        ,\n",
              "       0.        , 0.        , 0.        , 0.        , 0.17647059,\n",
              "       0.72941176, 0.99215686, 0.99215686, 0.58823529, 0.10588235,\n",
              "       0.        , 0.        , 0.        , 0.        , 0.        ,\n",
              "       0.        , 0.        , 0.        , 0.        , 0.        ,\n",
              "       0.        , 0.        , 0.        , 0.        , 0.        ,\n",
              "       0.        , 0.        , 0.        , 0.        , 0.        ,\n",
              "       0.        , 0.        , 0.        , 0.0627451 , 0.36470588,\n",
              "       0.98823529, 0.99215686, 0.73333333, 0.        , 0.        ,\n",
              "       0.        , 0.        , 0.        , 0.        , 0.        ,\n",
              "       0.        , 0.        , 0.        , 0.        , 0.        ,\n",
              "       0.        , 0.        , 0.        , 0.        , 0.        ,\n",
              "       0.        , 0.        , 0.        , 0.        , 0.        ,\n",
              "       0.        , 0.        , 0.        , 0.97647059, 0.99215686,\n",
              "       0.97647059, 0.25098039, 0.        , 0.        , 0.        ,\n",
              "       0.        , 0.        , 0.        , 0.        , 0.        ,\n",
              "       0.        , 0.        , 0.        , 0.        , 0.        ,\n",
              "       0.        , 0.        , 0.        , 0.        , 0.        ,\n",
              "       0.        , 0.        , 0.        , 0.18039216, 0.50980392,\n",
              "       0.71764706, 0.99215686, 0.99215686, 0.81176471, 0.00784314,\n",
              "       0.        , 0.        , 0.        , 0.        , 0.        ,\n",
              "       0.        , 0.        , 0.        , 0.        , 0.        ,\n",
              "       0.        , 0.        , 0.        , 0.        , 0.        ,\n",
              "       0.        , 0.        , 0.        , 0.        , 0.15294118,\n",
              "       0.58039216, 0.89803922, 0.99215686, 0.99215686, 0.99215686,\n",
              "       0.98039216, 0.71372549, 0.        , 0.        , 0.        ,\n",
              "       0.        , 0.        , 0.        , 0.        , 0.        ,\n",
              "       0.        , 0.        , 0.        , 0.        , 0.        ,\n",
              "       0.        , 0.        , 0.        , 0.        , 0.        ,\n",
              "       0.09411765, 0.44705882, 0.86666667, 0.99215686, 0.99215686,\n",
              "       0.99215686, 0.99215686, 0.78823529, 0.30588235, 0.        ,\n",
              "       0.        , 0.        , 0.        , 0.        , 0.        ,\n",
              "       0.        , 0.        , 0.        , 0.        , 0.        ,\n",
              "       0.        , 0.        , 0.        , 0.        , 0.        ,\n",
              "       0.        , 0.09019608, 0.25882353, 0.83529412, 0.99215686,\n",
              "       0.99215686, 0.99215686, 0.99215686, 0.77647059, 0.31764706,\n",
              "       0.00784314, 0.        , 0.        , 0.        , 0.        ,\n",
              "       0.        , 0.        , 0.        , 0.        , 0.        ,\n",
              "       0.        , 0.        , 0.        , 0.        , 0.        ,\n",
              "       0.        , 0.        , 0.07058824, 0.67058824, 0.85882353,\n",
              "       0.99215686, 0.99215686, 0.99215686, 0.99215686, 0.76470588,\n",
              "       0.31372549, 0.03529412, 0.        , 0.        , 0.        ,\n",
              "       0.        , 0.        , 0.        , 0.        , 0.        ,\n",
              "       0.        , 0.        , 0.        , 0.        , 0.        ,\n",
              "       0.        , 0.        , 0.        , 0.21568627, 0.6745098 ,\n",
              "       0.88627451, 0.99215686, 0.99215686, 0.99215686, 0.99215686,\n",
              "       0.95686275, 0.52156863, 0.04313725, 0.        , 0.        ,\n",
              "       0.        , 0.        , 0.        , 0.        , 0.        ,\n",
              "       0.        , 0.        , 0.        , 0.        , 0.        ,\n",
              "       0.        , 0.        , 0.        , 0.        , 0.        ,\n",
              "       0.        , 0.53333333, 0.99215686, 0.99215686, 0.99215686,\n",
              "       0.83137255, 0.52941176, 0.51764706, 0.0627451 , 0.        ,\n",
              "       0.        , 0.        , 0.        , 0.        , 0.        ,\n",
              "       0.        , 0.        , 0.        , 0.        , 0.        ,\n",
              "       0.        , 0.        , 0.        , 0.        , 0.        ,\n",
              "       0.        , 0.        , 0.        , 0.        , 0.        ,\n",
              "       0.        , 0.        , 0.        , 0.        , 0.        ,\n",
              "       0.        , 0.        , 0.        , 0.        , 0.        ,\n",
              "       0.        , 0.        , 0.        , 0.        , 0.        ,\n",
              "       0.        , 0.        , 0.        , 0.        , 0.        ,\n",
              "       0.        , 0.        , 0.        , 0.        , 0.        ,\n",
              "       0.        , 0.        , 0.        , 0.        , 0.        ,\n",
              "       0.        , 0.        , 0.        , 0.        , 0.        ,\n",
              "       0.        , 0.        , 0.        , 0.        , 0.        ,\n",
              "       0.        , 0.        , 0.        , 0.        , 0.        ,\n",
              "       0.        , 0.        , 0.        , 0.        , 0.        ,\n",
              "       0.        , 0.        , 0.        , 0.        , 0.        ,\n",
              "       0.        , 0.        , 0.        , 0.        , 0.        ,\n",
              "       0.        , 0.        , 0.        , 0.        , 0.        ,\n",
              "       0.        , 0.        , 0.        , 0.        , 0.        ,\n",
              "       0.        , 0.        , 0.        , 0.        , 0.        ,\n",
              "       0.        , 0.        , 0.        , 0.        ])"
            ]
          },
          "metadata": {},
          "execution_count": 10
        }
      ]
    },
    {
      "cell_type": "markdown",
      "metadata": {
        "id": "ZRHr_I0gfn-G"
      },
      "source": [
        "## Very Simple Neural Network with No Hidden Layers"
      ],
      "id": "ZRHr_I0gfn-G"
    },
    {
      "cell_type": "code",
      "metadata": {
        "colab": {
          "base_uri": "https://localhost:8080/"
        },
        "id": "gHiF51-Cfn-K",
        "outputId": "08886098-28ba-4bd4-8090-b572bcc25dc5"
      },
      "source": [
        "# Creating a sequential model\n",
        "model = keras.Sequential([\n",
        "    keras.layers.Dense(10, input_shape=(784,), activation='sigmoid')\n",
        "])\n",
        "\n",
        "# Compiling the model\n",
        "model.compile(optimizer='adam',\n",
        "              loss='sparse_categorical_crossentropy',\n",
        "              metrics=['accuracy'])\n",
        "\n",
        "# Training the model\n",
        "model.fit(X_train_flattened, Y_train, epochs=1)"
      ],
      "id": "gHiF51-Cfn-K",
      "execution_count": 11,
      "outputs": [
        {
          "output_type": "stream",
          "name": "stdout",
          "text": [
            "1875/1875 [==============================] - 7s 3ms/step - loss: 0.4710 - accuracy: 0.8752\n"
          ]
        },
        {
          "output_type": "execute_result",
          "data": {
            "text/plain": [
              "<keras.callbacks.History at 0x7ff9b51168c0>"
            ]
          },
          "metadata": {},
          "execution_count": 11
        }
      ]
    },
    {
      "cell_type": "code",
      "metadata": {
        "colab": {
          "base_uri": "https://localhost:8080/"
        },
        "id": "-i9ASgsnfn-L",
        "outputId": "1ce00ff9-6c92-4be3-978d-d9d85623c59d"
      },
      "source": [
        "# Evaluating the model on the test data\n",
        "model.evaluate(X_test_flattened, Y_test)"
      ],
      "id": "-i9ASgsnfn-L",
      "execution_count": 12,
      "outputs": [
        {
          "output_type": "stream",
          "name": "stdout",
          "text": [
            "313/313 [==============================] - 1s 2ms/step - loss: 0.3064 - accuracy: 0.9164\n"
          ]
        },
        {
          "output_type": "execute_result",
          "data": {
            "text/plain": [
              "[0.3064431846141815, 0.9164000153541565]"
            ]
          },
          "metadata": {},
          "execution_count": 12
        }
      ]
    },
    {
      "cell_type": "markdown",
      "metadata": {
        "id": "U42NrjEwfn-L"
      },
      "source": [
        "## Using Hidden Layers"
      ],
      "id": "U42NrjEwfn-L"
    },
    {
      "cell_type": "code",
      "metadata": {
        "colab": {
          "base_uri": "https://localhost:8080/"
        },
        "id": "qND1EBUlfn-M",
        "outputId": "9ea4820a-19cf-4850-c9c7-4700fd47fbdb"
      },
      "source": [
        "# Creating a sequential model with hidden layers\n",
        "model_hidden = keras.Sequential([\n",
        "    keras.layers.Dense(100, input_shape=(784,), activation='relu'),\n",
        "    keras.layers.Dense(10, activation='sigmoid')\n",
        "])\n",
        "\n",
        "# Compiling the model\n",
        "model_hidden.compile(optimizer='adam',\n",
        "                     loss='sparse_categorical_crossentropy',\n",
        "                     metrics=['accuracy'])\n",
        "\n",
        "# Training the model\n",
        "model_hidden.fit(X_train_flattened, Y_train, epochs=1)"
      ],
      "id": "qND1EBUlfn-M",
      "execution_count": 13,
      "outputs": [
        {
          "output_type": "stream",
          "name": "stdout",
          "text": [
            "1875/1875 [==============================] - 5s 2ms/step - loss: 0.2741 - accuracy: 0.9224\n"
          ]
        },
        {
          "output_type": "execute_result",
          "data": {
            "text/plain": [
              "<keras.callbacks.History at 0x7ff9101e5cc0>"
            ]
          },
          "metadata": {},
          "execution_count": 13
        }
      ]
    },
    {
      "cell_type": "code",
      "metadata": {
        "colab": {
          "base_uri": "https://localhost:8080/"
        },
        "id": "YIrIaTrCfn-M",
        "outputId": "db4a46cc-52b7-4268-b0a0-eda801f06037"
      },
      "source": [
        "# Evaluating the model on the test data\n",
        "model_hidden.evaluate(X_test_flattened, Y_test)"
      ],
      "id": "YIrIaTrCfn-M",
      "execution_count": 14,
      "outputs": [
        {
          "output_type": "stream",
          "name": "stdout",
          "text": [
            "313/313 [==============================] - 1s 2ms/step - loss: 0.1519 - accuracy: 0.9545\n"
          ]
        },
        {
          "output_type": "execute_result",
          "data": {
            "text/plain": [
              "[0.15189236402511597, 0.9545000195503235]"
            ]
          },
          "metadata": {},
          "execution_count": 14
        }
      ]
    },
    {
      "cell_type": "markdown",
      "metadata": {
        "id": "21-qxisSfn-N"
      },
      "source": [
        "## Using Flatten Layer"
      ],
      "id": "21-qxisSfn-N"
    },
    {
      "cell_type": "code",
      "metadata": {
        "colab": {
          "base_uri": "https://localhost:8080/"
        },
        "id": "ZvFBCXlefn-N",
        "outputId": "a3e347d6-4d8d-48c3-9ad2-283f4175446a"
      },
      "source": [
        "# Creating a sequential model with a flatten layer\n",
        "model_flatten = keras.Sequential([\n",
        "    keras.layers.Flatten(input_shape=(28, 28)),\n",
        "    keras.layers.Dense(100, activation='relu'),\n",
        "    keras.layers.Dense(10, activation='sigmoid')\n",
        "])\n",
        "\n",
        "# Compiling the model\n",
        "model_flatten.compile(optimizer='adam',\n",
        "                     loss='sparse_categorical_crossentropy',\n",
        "                     metrics=['accuracy'])\n",
        "\n",
        "# Training the model\n",
        "model_flatten.fit(X_train, Y_train, epochs=1)"
      ],
      "id": "ZvFBCXlefn-N",
      "execution_count": 15,
      "outputs": [
        {
          "output_type": "stream",
          "name": "stdout",
          "text": [
            "1875/1875 [==============================] - 5s 2ms/step - loss: 0.2752 - accuracy: 0.9216\n"
          ]
        },
        {
          "output_type": "execute_result",
          "data": {
            "text/plain": [
              "<keras.callbacks.History at 0x7ff9100bba60>"
            ]
          },
          "metadata": {},
          "execution_count": 15
        }
      ]
    },
    {
      "cell_type": "code",
      "metadata": {
        "colab": {
          "base_uri": "https://localhost:8080/"
        },
        "id": "pbvfhwyufn-O",
        "outputId": "26da6694-acc4-431e-e637-15eb4d8a6fb2"
      },
      "source": [
        "# Evaluating the model on the test data\n",
        "model_flatten.evaluate(X_test, Y_test)"
      ],
      "id": "pbvfhwyufn-O",
      "execution_count": 16,
      "outputs": [
        {
          "output_type": "stream",
          "name": "stdout",
          "text": [
            "313/313 [==============================] - 1s 2ms/step - loss: 0.1567 - accuracy: 0.9542\n"
          ]
        },
        {
          "output_type": "execute_result",
          "data": {
            "text/plain": [
              "[0.15665704011917114, 0.954200029373169]"
            ]
          },
          "metadata": {},
          "execution_count": 16
        }
      ]
    },
    {
      "cell_type": "markdown",
      "metadata": {
        "id": "SIELwxdLfn-O"
      },
      "source": [
        "## Convolutional Neural Network (CNN)"
      ],
      "id": "SIELwxdLfn-O"
    },
    {
      "cell_type": "code",
      "metadata": {
        "colab": {
          "base_uri": "https://localhost:8080/"
        },
        "id": "iHGuI8-Zfn-P",
        "outputId": "261428ca-46ba-4c82-a698-ee687be02677"
      },
      "source": [
        "# Creating a sequential CNN model\n",
        "CNN_model = keras.Sequential([\n",
        "    keras.layers.Conv2D(filters=32, kernel_size=(3, 3), activation='relu', input_shape=(28, 28, 1)),\n",
        "    keras.layers.MaxPooling2D((2, 2)),\n",
        "    keras.layers.Flatten(),\n",
        "    keras.layers.Dense(100, activation='relu'),\n",
        "    keras.layers.Dense(10, activation='softmax')\n",
        "])\n",
        "\n",
        "# Compiling the CNN model\n",
        "CNN_model.compile(optimizer='adam',\n",
        "                  loss='sparse_categorical_crossentropy',\n",
        "                  metrics=['accuracy'])\n",
        "\n",
        "# Reshaping the input data for the CNN model\n",
        "X_train_cnn = np.expand_dims(X_train, -1)\n",
        "X_test_cnn = np.expand_dims(X_test, -1)\n",
        "\n",
        "# Training the CNN model\n",
        "CNN_model.fit(X_train_cnn, Y_train, epochs=1)"
      ],
      "id": "iHGuI8-Zfn-P",
      "execution_count": 17,
      "outputs": [
        {
          "output_type": "stream",
          "name": "stdout",
          "text": [
            "1875/1875 [==============================] - 7s 3ms/step - loss: 0.1531 - accuracy: 0.9549\n"
          ]
        },
        {
          "output_type": "execute_result",
          "data": {
            "text/plain": [
              "<keras.callbacks.History at 0x7ff90a92fb80>"
            ]
          },
          "metadata": {},
          "execution_count": 17
        }
      ]
    },
    {
      "cell_type": "code",
      "metadata": {
        "colab": {
          "base_uri": "https://localhost:8080/"
        },
        "id": "DkunV6IGfn-Q",
        "outputId": "ecf71fe7-bc4a-4de9-b016-b783ff71708b"
      },
      "source": [
        "# Evaluating the CNN model on the test data\n",
        "CNN_model.evaluate(X_test_cnn, Y_test)"
      ],
      "id": "DkunV6IGfn-Q",
      "execution_count": 18,
      "outputs": [
        {
          "output_type": "stream",
          "name": "stdout",
          "text": [
            "313/313 [==============================] - 1s 2ms/step - loss: 0.0691 - accuracy: 0.9763\n"
          ]
        },
        {
          "output_type": "execute_result",
          "data": {
            "text/plain": [
              "[0.0691227838397026, 0.9763000011444092]"
            ]
          },
          "metadata": {},
          "execution_count": 18
        }
      ]
    },
    {
      "cell_type": "markdown",
      "metadata": {
        "id": "li14I1v7fn-R"
      },
      "source": [
        "## Model Comparison"
      ],
      "id": "li14I1v7fn-R"
    },
    {
      "cell_type": "code",
      "source": [
        "# Comparing the performance of all models\n",
        "model_names = ['No Hidden Layer', 'Hidden Layer', 'Flatten Layer', 'CNN']\n",
        "models = [model, model_hidden, model_flatten, CNN_model]\n",
        "accuracies = []\n",
        "\n",
        "for model in models:\n",
        "    if model == CNN_model:\n",
        "        X_test_cnn = np.expand_dims(X_test, -1)\n",
        "        _, accuracy = model.evaluate(X_test_cnn, Y_test)\n",
        "    else:\n",
        "        _, accuracy = model.evaluate(X_test_flattened, Y_test)\n",
        "    accuracies.append(accuracy)\n",
        "\n",
        "# Plotting the model accuracies\n",
        "plt.bar(model_names, accuracies)\n",
        "plt.xlabel('Model')\n",
        "plt.ylabel('Accuracy')\n",
        "plt.title('Model Comparison')\n",
        "plt.show()\n"
      ],
      "metadata": {
        "colab": {
          "base_uri": "https://localhost:8080/",
          "height": 541
        },
        "id": "8vRbswyZhkKw",
        "outputId": "1de102df-6725-49fe-a43f-57e27f0963f5"
      },
      "id": "8vRbswyZhkKw",
      "execution_count": 19,
      "outputs": [
        {
          "output_type": "stream",
          "name": "stdout",
          "text": [
            "313/313 [==============================] - 1s 2ms/step - loss: 0.3064 - accuracy: 0.9164\n",
            "313/313 [==============================] - 1s 2ms/step - loss: 0.1519 - accuracy: 0.9545\n",
            "313/313 [==============================] - 1s 2ms/step - loss: 0.1567 - accuracy: 0.9542\n",
            "313/313 [==============================] - 1s 2ms/step - loss: 0.0691 - accuracy: 0.9763\n"
          ]
        },
        {
          "output_type": "display_data",
          "data": {
            "text/plain": [
              "<Figure size 640x480 with 1 Axes>"
            ],
            "image/png": "[encoded data removed]"
          },
          "metadata": {}
        }
      ]
    },
    {
      "cell_type": "markdown",
      "metadata": {
        "id": "raaWo1dtfn-S"
      },
      "source": [
        "## Conclusion\n",
        "\n",
        "In this project, we explored different models for handwritten digits classification using a neural network approach. We started with a simple neural network without any hidden layers and observed its performance. Then, we added a hidden layer and compared the results. We further experimented with a flatten layer to avoid reshaping the input data and a convolutional neural network (CNN) model.\n",
        "\n",
        "Based on the model comparison, we can see that the CNN model achieved the highest accuracy among the models tested, indicating its effectiveness in capturing the spatial information in the image data.\n",
        "\n",
        "Overall, this project demonstrates the importance of exploring different model architectures and techniques for improving the accuracy of classification tasks."
      ],
      "id": "raaWo1dtfn-S"
    }
  ],
  "metadata": {
    "kernelspec": {
      "display_name": "Python 3",
      "name": "python3"
    },
    "language_info": {
      "codemirror_mode": {
        "name": "ipython",
        "version": 3
      },
      "file_extension": ".py",
      "mimetype": "text/x-python",
      "name": "python",
      "nbconvert_exporter": "python",
      "pygments_lexer": "ipython3",
      "version": "3.9.7"
    },
    "colab": {
      "provenance": [],
      "machine_shape": "hm",
      "gpuType": "T4",
      "include_colab_link": true
    },
    "accelerator": "GPU"
  },
  "nbformat": 4,
  "nbformat_minor": 5
}